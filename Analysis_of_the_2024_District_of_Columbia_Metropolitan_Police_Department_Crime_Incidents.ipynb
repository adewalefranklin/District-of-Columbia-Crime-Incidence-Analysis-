{
  "nbformat": 4,
  "nbformat_minor": 0,
  "metadata": {
    "colab": {
      "provenance": [],
      "authorship_tag": "ABX9TyMBeemaAmXzy64/NZt3epRv",
      "include_colab_link": true
    },
    "kernelspec": {
      "name": "python3",
      "display_name": "Python 3"
    },
    "language_info": {
      "name": "python"
    }
  },
  "cells": [
    {
      "cell_type": "markdown",
      "metadata": {
        "id": "view-in-github",
        "colab_type": "text"
      },
      "source": [
        "<a href=\"https://colab.research.google.com/github/adewalefranklin/District-of-Columbia-Crime-Incidence-Analysis-/blob/main/Analysis_of_the_2024_District_of_Columbia_Metropolitan_Police_Department_Crime_Incidents.ipynb\" target=\"_parent\"><img src=\"https://colab.research.google.com/assets/colab-badge.svg\" alt=\"Open In Colab\"/></a>"
      ]
    },
    {
      "cell_type": "markdown",
      "source": [
        "#Setting up a Database table from the dataset file"
      ],
      "metadata": {
        "id": "b_FikwsoEu30"
      }
    },
    {
      "cell_type": "code",
      "execution_count": 11,
      "metadata": {
        "id": "yWVyqhX7XJfR"
      },
      "outputs": [],
      "source": [
        "# Create database tables from CSV files\n",
        "\n",
        "import pandas as pd\n",
        "\n",
        "# Correct path to the CSV file\n",
        "crime_2024 = pd.read_csv('/content/Crime_Incidents_in_2024.csv', encoding='unicode_escape')\n"
      ]
    },
    {
      "cell_type": "code",
      "source": [
        "%%sql\n",
        "DROP TABLE IF EXISTS Dataset;\n"
      ],
      "metadata": {
        "colab": {
          "base_uri": "https://localhost:8080/"
        },
        "id": "iSHdsAA6FIZ9",
        "outputId": "0a943074-aa87-46a3-f9fc-bd051c801d42"
      },
      "execution_count": 58,
      "outputs": [
        {
          "output_type": "stream",
          "name": "stdout",
          "text": [
            " * sqlite://\n",
            "Done.\n"
          ]
        },
        {
          "output_type": "execute_result",
          "data": {
            "text/plain": [
              "[]"
            ]
          },
          "metadata": {},
          "execution_count": 58
        }
      ]
    },
    {
      "cell_type": "code",
      "source": [
        "# Example if using SQLite in Jupyter with SQLAlchemy\n",
        "from sqlalchemy import create_engine\n",
        "\n",
        "\n",
        "# Create an in-memory SQLite engine\n",
        "engine = create_engine('sqlite:///:memory:')\n",
        "\n",
        "\n",
        "# Persist the DataFrame into the database\n",
        "crime_2024.to_sql('Dataset', engine, if_exists='replace', index=False)\n"
      ],
      "metadata": {
        "colab": {
          "base_uri": "https://localhost:8080/"
        },
        "id": "sxhpjUNSlZV1",
        "outputId": "90161e82-38e4-4a24-f3b8-f9f35857aa11"
      },
      "execution_count": 59,
      "outputs": [
        {
          "output_type": "execute_result",
          "data": {
            "text/plain": [
              "20802"
            ]
          },
          "metadata": {},
          "execution_count": 59
        }
      ]
    },
    {
      "cell_type": "code",
      "source": [
        "crime_2024.sample(10) # To view 10 random rows of the dataset"
      ],
      "metadata": {
        "colab": {
          "base_uri": "https://localhost:8080/",
          "height": 846
        },
        "id": "nkgvEMuPzi77",
        "outputId": "a7074d89-bf64-42c6-ba72-cfb5d913934c"
      },
      "execution_count": 57,
      "outputs": [
        {
          "output_type": "execute_result",
          "data": {
            "text/plain": [
              "                 Y       CCN                REPORT_DAT     SHIFT  METHOD  \\\n",
              "19151  134913.9000  24420085 2024-01-12 14:22:05+00:00       DAY  OTHERS   \n",
              "17482  137708.6300  24423051 2024-09-03 19:22:14+00:00   EVENING  OTHERS   \n",
              "6731   134507.2847  24067443 2024-05-06 00:03:29+00:00   EVENING  OTHERS   \n",
              "19660  141888.0400  24008947 2024-01-19 20:49:23+00:00   EVENING  OTHERS   \n",
              "2940   137824.6500  24138130 2024-09-08 01:21:21+00:00   EVENING  OTHERS   \n",
              "13388  136161.8300  24091367 2024-06-16 03:40:55+00:00  MIDNIGHT  OTHERS   \n",
              "13871  134906.7148  24067437 2024-05-06 01:58:31+00:00   EVENING  OTHERS   \n",
              "19226  137406.9600  24422073 2024-06-08 00:21:44+00:00   EVENING  OTHERS   \n",
              "4055   138411.1900  24146635 2024-09-22 17:33:25+00:00       DAY  OTHERS   \n",
              "14924  138573.6500  24054890 2024-04-12 22:21:30+00:00   EVENING  OTHERS   \n",
              "\n",
              "                   OFFENSE                                       BLOCK  \\\n",
              "19151          THEFT/OTHER       1300 - 1399 BLOCK OF WATKINS ALLEY SE   \n",
              "17482          THEFT/OTHER                 1 - 99 BLOCK OF N STREET NW   \n",
              "6731   MOTOR VEHICLE THEFT            1400 - 1499 BLOCK OF K STREET SE   \n",
              "19660          THEFT/OTHER  4227 - 4399 BLOCK OF CONNECTICUT AVENUE NW   \n",
              "2940   MOTOR VEHICLE THEFT      1300 - 1399 BLOCK OF EASTERN AVENUE NE   \n",
              "13388             BURGLARY            1900 - 1999 BLOCK OF C STREET NE   \n",
              "13871          THEFT/OTHER            500 - 699 BLOCK OF 8TH STREET SE   \n",
              "19226          THEFT/OTHER         1100 - 1199 BLOCK OF 14TH STREET NW   \n",
              "4055           THEFT/OTHER          1705 - 1799 BLOCK OF 6TH STREET NW   \n",
              "14924              ROBBERY         1802 - 1899 BLOCK OF 11TH STREET NW   \n",
              "\n",
              "              XBLOCK         YBLOCK  WARD  ... CENSUS_TRACT  VOTING_PRECINCT  \\\n",
              "19151  401135.370000  134913.900000   6.0  ...       6900.0      Precinct 91   \n",
              "17482  399058.280000  137708.630000   5.0  ...       4600.0      Precinct 19   \n",
              "6731   401337.695807  134507.284666   6.0  ...       7100.0      Precinct 91   \n",
              "19660  394459.180000  141888.040000   3.0  ...       1303.0      Precinct 34   \n",
              "2940   406154.780000  137824.650000   7.0  ...       7806.0      Precinct 93   \n",
              "13388  402017.670000  136161.830000   7.0  ...       7903.0      Precinct 80   \n",
              "13871  400435.848862  134906.714779   6.0  ...       7000.0      Precinct 90   \n",
              "19226  397228.790000  137406.960000   2.0  ...      10100.0      Precinct 17   \n",
              "4055   398274.120000  138411.190000   2.0  ...       4801.0      Precinct 21   \n",
              "14924  397655.330000  138573.650000   1.0  ...       4402.0     Precinct 137   \n",
              "\n",
              "        LATITUDE  LONGITUDE           BID              START_DATE  \\\n",
              "19151  38.882060 -76.986915           NaN  2023/12/31 20:00:00+00   \n",
              "17482  38.907236 -77.010857           NaN  2024/08/17 18:00:00+00   \n",
              "6731   38.878397 -76.984583           NaN  2024/05/05 19:11:00+00   \n",
              "19660  38.944869 -77.063916           NaN  2023/12/06 13:55:00+00   \n",
              "2940   38.908260 -76.929038           NaN  2024/09/06 13:30:00+00   \n",
              "13388  38.893300 -76.976742           NaN  2024/06/16 01:55:00+00   \n",
              "13871  38.881996 -76.994977  CAPITOL HILL  2024/05/05 19:04:00+00   \n",
              "19226  38.904515 -77.031949      DOWNTOWN  2024/06/01 03:30:00+00   \n",
              "4055   38.913564 -77.019900           NaN  2024/09/22 17:12:00+00   \n",
              "14924  38.915026 -77.027036           NaN  2024/04/12 19:42:00+00   \n",
              "\n",
              "                     END_DATE   OBJECTID  OCTO_RECORD_ID Month  \n",
              "19151  2024/01/01 08:45:00+00  596631095             NaN     1  \n",
              "17482  2024/08/17 18:15:00+00  596615642             NaN     9  \n",
              "6731   2024/05/05 19:42:00+00  596433853             NaN     5  \n",
              "19660  2023/12/06 14:00:00+00  596634907             NaN     1  \n",
              "2940   2024/09/07 16:00:00+00  596405726             NaN     9  \n",
              "13388                     NaN  596591062             NaN     6  \n",
              "13871  2024/05/05 19:40:00+00  596595561             NaN     5  \n",
              "19226  2024/06/01 14:00:00+00  596631795             NaN     6  \n",
              "4055                      NaN  596409475             NaN     9  \n",
              "14924  2024/04/12 22:23:00+00  596605000             NaN     4  \n",
              "\n",
              "[10 rows x 25 columns]"
            ],
            "text/html": [
              "\n",
              "  <div id=\"df-0e84abec-7f92-43db-85aa-4cadef1b52f2\" class=\"colab-df-container\">\n",
              "    <div>\n",
              "<style scoped>\n",
              "    .dataframe tbody tr th:only-of-type {\n",
              "        vertical-align: middle;\n",
              "    }\n",
              "\n",
              "    .dataframe tbody tr th {\n",
              "        vertical-align: top;\n",
              "    }\n",
              "\n",
              "    .dataframe thead th {\n",
              "        text-align: right;\n",
              "    }\n",
              "</style>\n",
              "<table border=\"1\" class=\"dataframe\">\n",
              "  <thead>\n",
              "    <tr style=\"text-align: right;\">\n",
              "      <th></th>\n",
              "      <th>Y</th>\n",
              "      <th>CCN</th>\n",
              "      <th>REPORT_DAT</th>\n",
              "      <th>SHIFT</th>\n",
              "      <th>METHOD</th>\n",
              "      <th>OFFENSE</th>\n",
              "      <th>BLOCK</th>\n",
              "      <th>XBLOCK</th>\n",
              "      <th>YBLOCK</th>\n",
              "      <th>WARD</th>\n",
              "      <th>...</th>\n",
              "      <th>CENSUS_TRACT</th>\n",
              "      <th>VOTING_PRECINCT</th>\n",
              "      <th>LATITUDE</th>\n",
              "      <th>LONGITUDE</th>\n",
              "      <th>BID</th>\n",
              "      <th>START_DATE</th>\n",
              "      <th>END_DATE</th>\n",
              "      <th>OBJECTID</th>\n",
              "      <th>OCTO_RECORD_ID</th>\n",
              "      <th>Month</th>\n",
              "    </tr>\n",
              "  </thead>\n",
              "  <tbody>\n",
              "    <tr>\n",
              "      <th>19151</th>\n",
              "      <td>134913.9000</td>\n",
              "      <td>24420085</td>\n",
              "      <td>2024-01-12 14:22:05+00:00</td>\n",
              "      <td>DAY</td>\n",
              "      <td>OTHERS</td>\n",
              "      <td>THEFT/OTHER</td>\n",
              "      <td>1300 - 1399 BLOCK OF WATKINS ALLEY SE</td>\n",
              "      <td>401135.370000</td>\n",
              "      <td>134913.900000</td>\n",
              "      <td>6.0</td>\n",
              "      <td>...</td>\n",
              "      <td>6900.0</td>\n",
              "      <td>Precinct 91</td>\n",
              "      <td>38.882060</td>\n",
              "      <td>-76.986915</td>\n",
              "      <td>NaN</td>\n",
              "      <td>2023/12/31 20:00:00+00</td>\n",
              "      <td>2024/01/01 08:45:00+00</td>\n",
              "      <td>596631095</td>\n",
              "      <td>NaN</td>\n",
              "      <td>1</td>\n",
              "    </tr>\n",
              "    <tr>\n",
              "      <th>17482</th>\n",
              "      <td>137708.6300</td>\n",
              "      <td>24423051</td>\n",
              "      <td>2024-09-03 19:22:14+00:00</td>\n",
              "      <td>EVENING</td>\n",
              "      <td>OTHERS</td>\n",
              "      <td>THEFT/OTHER</td>\n",
              "      <td>1 - 99 BLOCK OF N STREET NW</td>\n",
              "      <td>399058.280000</td>\n",
              "      <td>137708.630000</td>\n",
              "      <td>5.0</td>\n",
              "      <td>...</td>\n",
              "      <td>4600.0</td>\n",
              "      <td>Precinct 19</td>\n",
              "      <td>38.907236</td>\n",
              "      <td>-77.010857</td>\n",
              "      <td>NaN</td>\n",
              "      <td>2024/08/17 18:00:00+00</td>\n",
              "      <td>2024/08/17 18:15:00+00</td>\n",
              "      <td>596615642</td>\n",
              "      <td>NaN</td>\n",
              "      <td>9</td>\n",
              "    </tr>\n",
              "    <tr>\n",
              "      <th>6731</th>\n",
              "      <td>134507.2847</td>\n",
              "      <td>24067443</td>\n",
              "      <td>2024-05-06 00:03:29+00:00</td>\n",
              "      <td>EVENING</td>\n",
              "      <td>OTHERS</td>\n",
              "      <td>MOTOR VEHICLE THEFT</td>\n",
              "      <td>1400 - 1499 BLOCK OF K STREET SE</td>\n",
              "      <td>401337.695807</td>\n",
              "      <td>134507.284666</td>\n",
              "      <td>6.0</td>\n",
              "      <td>...</td>\n",
              "      <td>7100.0</td>\n",
              "      <td>Precinct 91</td>\n",
              "      <td>38.878397</td>\n",
              "      <td>-76.984583</td>\n",
              "      <td>NaN</td>\n",
              "      <td>2024/05/05 19:11:00+00</td>\n",
              "      <td>2024/05/05 19:42:00+00</td>\n",
              "      <td>596433853</td>\n",
              "      <td>NaN</td>\n",
              "      <td>5</td>\n",
              "    </tr>\n",
              "    <tr>\n",
              "      <th>19660</th>\n",
              "      <td>141888.0400</td>\n",
              "      <td>24008947</td>\n",
              "      <td>2024-01-19 20:49:23+00:00</td>\n",
              "      <td>EVENING</td>\n",
              "      <td>OTHERS</td>\n",
              "      <td>THEFT/OTHER</td>\n",
              "      <td>4227 - 4399 BLOCK OF CONNECTICUT AVENUE NW</td>\n",
              "      <td>394459.180000</td>\n",
              "      <td>141888.040000</td>\n",
              "      <td>3.0</td>\n",
              "      <td>...</td>\n",
              "      <td>1303.0</td>\n",
              "      <td>Precinct 34</td>\n",
              "      <td>38.944869</td>\n",
              "      <td>-77.063916</td>\n",
              "      <td>NaN</td>\n",
              "      <td>2023/12/06 13:55:00+00</td>\n",
              "      <td>2023/12/06 14:00:00+00</td>\n",
              "      <td>596634907</td>\n",
              "      <td>NaN</td>\n",
              "      <td>1</td>\n",
              "    </tr>\n",
              "    <tr>\n",
              "      <th>2940</th>\n",
              "      <td>137824.6500</td>\n",
              "      <td>24138130</td>\n",
              "      <td>2024-09-08 01:21:21+00:00</td>\n",
              "      <td>EVENING</td>\n",
              "      <td>OTHERS</td>\n",
              "      <td>MOTOR VEHICLE THEFT</td>\n",
              "      <td>1300 - 1399 BLOCK OF EASTERN AVENUE NE</td>\n",
              "      <td>406154.780000</td>\n",
              "      <td>137824.650000</td>\n",
              "      <td>7.0</td>\n",
              "      <td>...</td>\n",
              "      <td>7806.0</td>\n",
              "      <td>Precinct 93</td>\n",
              "      <td>38.908260</td>\n",
              "      <td>-76.929038</td>\n",
              "      <td>NaN</td>\n",
              "      <td>2024/09/06 13:30:00+00</td>\n",
              "      <td>2024/09/07 16:00:00+00</td>\n",
              "      <td>596405726</td>\n",
              "      <td>NaN</td>\n",
              "      <td>9</td>\n",
              "    </tr>\n",
              "    <tr>\n",
              "      <th>13388</th>\n",
              "      <td>136161.8300</td>\n",
              "      <td>24091367</td>\n",
              "      <td>2024-06-16 03:40:55+00:00</td>\n",
              "      <td>MIDNIGHT</td>\n",
              "      <td>OTHERS</td>\n",
              "      <td>BURGLARY</td>\n",
              "      <td>1900 - 1999 BLOCK OF C STREET NE</td>\n",
              "      <td>402017.670000</td>\n",
              "      <td>136161.830000</td>\n",
              "      <td>7.0</td>\n",
              "      <td>...</td>\n",
              "      <td>7903.0</td>\n",
              "      <td>Precinct 80</td>\n",
              "      <td>38.893300</td>\n",
              "      <td>-76.976742</td>\n",
              "      <td>NaN</td>\n",
              "      <td>2024/06/16 01:55:00+00</td>\n",
              "      <td>NaN</td>\n",
              "      <td>596591062</td>\n",
              "      <td>NaN</td>\n",
              "      <td>6</td>\n",
              "    </tr>\n",
              "    <tr>\n",
              "      <th>13871</th>\n",
              "      <td>134906.7148</td>\n",
              "      <td>24067437</td>\n",
              "      <td>2024-05-06 01:58:31+00:00</td>\n",
              "      <td>EVENING</td>\n",
              "      <td>OTHERS</td>\n",
              "      <td>THEFT/OTHER</td>\n",
              "      <td>500 - 699 BLOCK OF 8TH STREET SE</td>\n",
              "      <td>400435.848862</td>\n",
              "      <td>134906.714779</td>\n",
              "      <td>6.0</td>\n",
              "      <td>...</td>\n",
              "      <td>7000.0</td>\n",
              "      <td>Precinct 90</td>\n",
              "      <td>38.881996</td>\n",
              "      <td>-76.994977</td>\n",
              "      <td>CAPITOL HILL</td>\n",
              "      <td>2024/05/05 19:04:00+00</td>\n",
              "      <td>2024/05/05 19:40:00+00</td>\n",
              "      <td>596595561</td>\n",
              "      <td>NaN</td>\n",
              "      <td>5</td>\n",
              "    </tr>\n",
              "    <tr>\n",
              "      <th>19226</th>\n",
              "      <td>137406.9600</td>\n",
              "      <td>24422073</td>\n",
              "      <td>2024-06-08 00:21:44+00:00</td>\n",
              "      <td>EVENING</td>\n",
              "      <td>OTHERS</td>\n",
              "      <td>THEFT/OTHER</td>\n",
              "      <td>1100 - 1199 BLOCK OF 14TH STREET NW</td>\n",
              "      <td>397228.790000</td>\n",
              "      <td>137406.960000</td>\n",
              "      <td>2.0</td>\n",
              "      <td>...</td>\n",
              "      <td>10100.0</td>\n",
              "      <td>Precinct 17</td>\n",
              "      <td>38.904515</td>\n",
              "      <td>-77.031949</td>\n",
              "      <td>DOWNTOWN</td>\n",
              "      <td>2024/06/01 03:30:00+00</td>\n",
              "      <td>2024/06/01 14:00:00+00</td>\n",
              "      <td>596631795</td>\n",
              "      <td>NaN</td>\n",
              "      <td>6</td>\n",
              "    </tr>\n",
              "    <tr>\n",
              "      <th>4055</th>\n",
              "      <td>138411.1900</td>\n",
              "      <td>24146635</td>\n",
              "      <td>2024-09-22 17:33:25+00:00</td>\n",
              "      <td>DAY</td>\n",
              "      <td>OTHERS</td>\n",
              "      <td>THEFT/OTHER</td>\n",
              "      <td>1705 - 1799 BLOCK OF 6TH STREET NW</td>\n",
              "      <td>398274.120000</td>\n",
              "      <td>138411.190000</td>\n",
              "      <td>2.0</td>\n",
              "      <td>...</td>\n",
              "      <td>4801.0</td>\n",
              "      <td>Precinct 21</td>\n",
              "      <td>38.913564</td>\n",
              "      <td>-77.019900</td>\n",
              "      <td>NaN</td>\n",
              "      <td>2024/09/22 17:12:00+00</td>\n",
              "      <td>NaN</td>\n",
              "      <td>596409475</td>\n",
              "      <td>NaN</td>\n",
              "      <td>9</td>\n",
              "    </tr>\n",
              "    <tr>\n",
              "      <th>14924</th>\n",
              "      <td>138573.6500</td>\n",
              "      <td>24054890</td>\n",
              "      <td>2024-04-12 22:21:30+00:00</td>\n",
              "      <td>EVENING</td>\n",
              "      <td>OTHERS</td>\n",
              "      <td>ROBBERY</td>\n",
              "      <td>1802 - 1899 BLOCK OF 11TH STREET NW</td>\n",
              "      <td>397655.330000</td>\n",
              "      <td>138573.650000</td>\n",
              "      <td>1.0</td>\n",
              "      <td>...</td>\n",
              "      <td>4402.0</td>\n",
              "      <td>Precinct 137</td>\n",
              "      <td>38.915026</td>\n",
              "      <td>-77.027036</td>\n",
              "      <td>NaN</td>\n",
              "      <td>2024/04/12 19:42:00+00</td>\n",
              "      <td>2024/04/12 22:23:00+00</td>\n",
              "      <td>596605000</td>\n",
              "      <td>NaN</td>\n",
              "      <td>4</td>\n",
              "    </tr>\n",
              "  </tbody>\n",
              "</table>\n",
              "<p>10 rows × 25 columns</p>\n",
              "</div>\n",
              "    <div class=\"colab-df-buttons\">\n",
              "\n",
              "  <div class=\"colab-df-container\">\n",
              "    <button class=\"colab-df-convert\" onclick=\"convertToInteractive('df-0e84abec-7f92-43db-85aa-4cadef1b52f2')\"\n",
              "            title=\"Convert this dataframe to an interactive table.\"\n",
              "            style=\"display:none;\">\n",
              "\n",
              "  <svg xmlns=\"http://www.w3.org/2000/svg\" height=\"24px\" viewBox=\"0 -960 960 960\">\n",
              "    <path d=\"M120-120v-720h720v720H120Zm60-500h600v-160H180v160Zm220 220h160v-160H400v160Zm0 220h160v-160H400v160ZM180-400h160v-160H180v160Zm440 0h160v-160H620v160ZM180-180h160v-160H180v160Zm440 0h160v-160H620v160Z\"/>\n",
              "  </svg>\n",
              "    </button>\n",
              "\n",
              "  <style>\n",
              "    .colab-df-container {\n",
              "      display:flex;\n",
              "      gap: 12px;\n",
              "    }\n",
              "\n",
              "    .colab-df-convert {\n",
              "      background-color: #E8F0FE;\n",
              "      border: none;\n",
              "      border-radius: 50%;\n",
              "      cursor: pointer;\n",
              "      display: none;\n",
              "      fill: #1967D2;\n",
              "      height: 32px;\n",
              "      padding: 0 0 0 0;\n",
              "      width: 32px;\n",
              "    }\n",
              "\n",
              "    .colab-df-convert:hover {\n",
              "      background-color: #E2EBFA;\n",
              "      box-shadow: 0px 1px 2px rgba(60, 64, 67, 0.3), 0px 1px 3px 1px rgba(60, 64, 67, 0.15);\n",
              "      fill: #174EA6;\n",
              "    }\n",
              "\n",
              "    .colab-df-buttons div {\n",
              "      margin-bottom: 4px;\n",
              "    }\n",
              "\n",
              "    [theme=dark] .colab-df-convert {\n",
              "      background-color: #3B4455;\n",
              "      fill: #D2E3FC;\n",
              "    }\n",
              "\n",
              "    [theme=dark] .colab-df-convert:hover {\n",
              "      background-color: #434B5C;\n",
              "      box-shadow: 0px 1px 3px 1px rgba(0, 0, 0, 0.15);\n",
              "      filter: drop-shadow(0px 1px 2px rgba(0, 0, 0, 0.3));\n",
              "      fill: #FFFFFF;\n",
              "    }\n",
              "  </style>\n",
              "\n",
              "    <script>\n",
              "      const buttonEl =\n",
              "        document.querySelector('#df-0e84abec-7f92-43db-85aa-4cadef1b52f2 button.colab-df-convert');\n",
              "      buttonEl.style.display =\n",
              "        google.colab.kernel.accessAllowed ? 'block' : 'none';\n",
              "\n",
              "      async function convertToInteractive(key) {\n",
              "        const element = document.querySelector('#df-0e84abec-7f92-43db-85aa-4cadef1b52f2');\n",
              "        const dataTable =\n",
              "          await google.colab.kernel.invokeFunction('convertToInteractive',\n",
              "                                                    [key], {});\n",
              "        if (!dataTable) return;\n",
              "\n",
              "        const docLinkHtml = 'Like what you see? Visit the ' +\n",
              "          '<a target=\"_blank\" href=https://colab.research.google.com/notebooks/data_table.ipynb>data table notebook</a>'\n",
              "          + ' to learn more about interactive tables.';\n",
              "        element.innerHTML = '';\n",
              "        dataTable['output_type'] = 'display_data';\n",
              "        await google.colab.output.renderOutput(dataTable, element);\n",
              "        const docLink = document.createElement('div');\n",
              "        docLink.innerHTML = docLinkHtml;\n",
              "        element.appendChild(docLink);\n",
              "      }\n",
              "    </script>\n",
              "  </div>\n",
              "\n",
              "\n",
              "<div id=\"df-7a5065a6-1dbd-4529-9875-c3fe87cc8ac4\">\n",
              "  <button class=\"colab-df-quickchart\" onclick=\"quickchart('df-7a5065a6-1dbd-4529-9875-c3fe87cc8ac4')\"\n",
              "            title=\"Suggest charts\"\n",
              "            style=\"display:none;\">\n",
              "\n",
              "<svg xmlns=\"http://www.w3.org/2000/svg\" height=\"24px\"viewBox=\"0 0 24 24\"\n",
              "     width=\"24px\">\n",
              "    <g>\n",
              "        <path d=\"M19 3H5c-1.1 0-2 .9-2 2v14c0 1.1.9 2 2 2h14c1.1 0 2-.9 2-2V5c0-1.1-.9-2-2-2zM9 17H7v-7h2v7zm4 0h-2V7h2v10zm4 0h-2v-4h2v4z\"/>\n",
              "    </g>\n",
              "</svg>\n",
              "  </button>\n",
              "\n",
              "<style>\n",
              "  .colab-df-quickchart {\n",
              "      --bg-color: #E8F0FE;\n",
              "      --fill-color: #1967D2;\n",
              "      --hover-bg-color: #E2EBFA;\n",
              "      --hover-fill-color: #174EA6;\n",
              "      --disabled-fill-color: #AAA;\n",
              "      --disabled-bg-color: #DDD;\n",
              "  }\n",
              "\n",
              "  [theme=dark] .colab-df-quickchart {\n",
              "      --bg-color: #3B4455;\n",
              "      --fill-color: #D2E3FC;\n",
              "      --hover-bg-color: #434B5C;\n",
              "      --hover-fill-color: #FFFFFF;\n",
              "      --disabled-bg-color: #3B4455;\n",
              "      --disabled-fill-color: #666;\n",
              "  }\n",
              "\n",
              "  .colab-df-quickchart {\n",
              "    background-color: var(--bg-color);\n",
              "    border: none;\n",
              "    border-radius: 50%;\n",
              "    cursor: pointer;\n",
              "    display: none;\n",
              "    fill: var(--fill-color);\n",
              "    height: 32px;\n",
              "    padding: 0;\n",
              "    width: 32px;\n",
              "  }\n",
              "\n",
              "  .colab-df-quickchart:hover {\n",
              "    background-color: var(--hover-bg-color);\n",
              "    box-shadow: 0 1px 2px rgba(60, 64, 67, 0.3), 0 1px 3px 1px rgba(60, 64, 67, 0.15);\n",
              "    fill: var(--button-hover-fill-color);\n",
              "  }\n",
              "\n",
              "  .colab-df-quickchart-complete:disabled,\n",
              "  .colab-df-quickchart-complete:disabled:hover {\n",
              "    background-color: var(--disabled-bg-color);\n",
              "    fill: var(--disabled-fill-color);\n",
              "    box-shadow: none;\n",
              "  }\n",
              "\n",
              "  .colab-df-spinner {\n",
              "    border: 2px solid var(--fill-color);\n",
              "    border-color: transparent;\n",
              "    border-bottom-color: var(--fill-color);\n",
              "    animation:\n",
              "      spin 1s steps(1) infinite;\n",
              "  }\n",
              "\n",
              "  @keyframes spin {\n",
              "    0% {\n",
              "      border-color: transparent;\n",
              "      border-bottom-color: var(--fill-color);\n",
              "      border-left-color: var(--fill-color);\n",
              "    }\n",
              "    20% {\n",
              "      border-color: transparent;\n",
              "      border-left-color: var(--fill-color);\n",
              "      border-top-color: var(--fill-color);\n",
              "    }\n",
              "    30% {\n",
              "      border-color: transparent;\n",
              "      border-left-color: var(--fill-color);\n",
              "      border-top-color: var(--fill-color);\n",
              "      border-right-color: var(--fill-color);\n",
              "    }\n",
              "    40% {\n",
              "      border-color: transparent;\n",
              "      border-right-color: var(--fill-color);\n",
              "      border-top-color: var(--fill-color);\n",
              "    }\n",
              "    60% {\n",
              "      border-color: transparent;\n",
              "      border-right-color: var(--fill-color);\n",
              "    }\n",
              "    80% {\n",
              "      border-color: transparent;\n",
              "      border-right-color: var(--fill-color);\n",
              "      border-bottom-color: var(--fill-color);\n",
              "    }\n",
              "    90% {\n",
              "      border-color: transparent;\n",
              "      border-bottom-color: var(--fill-color);\n",
              "    }\n",
              "  }\n",
              "</style>\n",
              "\n",
              "  <script>\n",
              "    async function quickchart(key) {\n",
              "      const quickchartButtonEl =\n",
              "        document.querySelector('#' + key + ' button');\n",
              "      quickchartButtonEl.disabled = true;  // To prevent multiple clicks.\n",
              "      quickchartButtonEl.classList.add('colab-df-spinner');\n",
              "      try {\n",
              "        const charts = await google.colab.kernel.invokeFunction(\n",
              "            'suggestCharts', [key], {});\n",
              "      } catch (error) {\n",
              "        console.error('Error during call to suggestCharts:', error);\n",
              "      }\n",
              "      quickchartButtonEl.classList.remove('colab-df-spinner');\n",
              "      quickchartButtonEl.classList.add('colab-df-quickchart-complete');\n",
              "    }\n",
              "    (() => {\n",
              "      let quickchartButtonEl =\n",
              "        document.querySelector('#df-7a5065a6-1dbd-4529-9875-c3fe87cc8ac4 button');\n",
              "      quickchartButtonEl.style.display =\n",
              "        google.colab.kernel.accessAllowed ? 'block' : 'none';\n",
              "    })();\n",
              "  </script>\n",
              "</div>\n",
              "\n",
              "    </div>\n",
              "  </div>\n"
            ],
            "application/vnd.google.colaboratory.intrinsic+json": {
              "type": "dataframe"
            }
          },
          "metadata": {},
          "execution_count": 57
        }
      ]
    },
    {
      "cell_type": "code",
      "source": [
        "crime_2024.shape ##To check the data structure ---- The dataset is made up of 20802 rows and 25 columns respectively."
      ],
      "metadata": {
        "colab": {
          "base_uri": "https://localhost:8080/"
        },
        "id": "cLAKVzvKFZps",
        "outputId": "3a70958a-5c73-45a0-93dd-ed352ce91b78"
      },
      "execution_count": 60,
      "outputs": [
        {
          "output_type": "execute_result",
          "data": {
            "text/plain": [
              "(20802, 25)"
            ]
          },
          "metadata": {},
          "execution_count": 60
        }
      ]
    },
    {
      "cell_type": "code",
      "source": [
        "crime_2024.columns #To view all the column names of the dataset"
      ],
      "metadata": {
        "colab": {
          "base_uri": "https://localhost:8080/"
        },
        "id": "x8OJUwzPz6oJ",
        "outputId": "1fbbf1a3-abe2-484e-d3df-fdcefd84d14f"
      },
      "execution_count": 31,
      "outputs": [
        {
          "output_type": "execute_result",
          "data": {
            "text/plain": [
              "Index(['Y', 'CCN', 'REPORT_DAT', 'SHIFT', 'METHOD', 'OFFENSE', 'BLOCK',\n",
              "       'XBLOCK', 'YBLOCK', 'WARD', 'ANC', 'DISTRICT', 'PSA',\n",
              "       'NEIGHBORHOOD_CLUSTER', 'BLOCK_GROUP', 'CENSUS_TRACT',\n",
              "       'VOTING_PRECINCT', 'LATITUDE', 'LONGITUDE', 'BID', 'START_DATE',\n",
              "       'END_DATE', 'OBJECTID', 'OCTO_RECORD_ID'],\n",
              "      dtype='object')"
            ]
          },
          "metadata": {},
          "execution_count": 31
        }
      ]
    },
    {
      "cell_type": "markdown",
      "source": [
        "#EDA ANALYSIS"
      ],
      "metadata": {
        "id": "esO5qCt9GHQx"
      }
    },
    {
      "cell_type": "markdown",
      "source": [
        "#What is the crime distribution by offense type?\n",
        "#This query helps identify which crimes are most frequent, allowing authorities to needed training as well as deescalation traning to assigned officers. -->"
      ],
      "metadata": {
        "id": "nzX7efDOoYxd"
      }
    },
    {
      "cell_type": "code",
      "source": [
        "query = \"\"\"\n",
        "SELECT OFFENSE, COUNT(*) as Crime_Count\n",
        "FROM crime_2024\n",
        "GROUP BY OFFENSE\n",
        "ORDER BY Crime_Count DESC;\n",
        "\"\"\"\n",
        "\n",
        "# Execute the SQL query and fetch results\n",
        "result = pd.read_sql_query(query, engine)\n",
        "print(result)"
      ],
      "metadata": {
        "colab": {
          "base_uri": "https://localhost:8080/"
        },
        "id": "nRP0VwJOnp0O",
        "outputId": "9b206a7e-4c23-4856-9647-07da6e6be8a5"
      },
      "execution_count": 18,
      "outputs": [
        {
          "output_type": "stream",
          "name": "stdout",
          "text": [
            "                      OFFENSE  Crime_Count\n",
            "0                 THEFT/OTHER         9142\n",
            "1                THEFT F/AUTO         4718\n",
            "2         MOTOR VEHICLE THEFT         3611\n",
            "3                     ROBBERY         1566\n",
            "4  ASSAULT W/DANGEROUS WEAPON          792\n",
            "5                    BURGLARY          712\n",
            "6                    HOMICIDE          139\n",
            "7                   SEX ABUSE          118\n",
            "8                       ARSON            4\n"
          ]
        }
      ]
    },
    {
      "cell_type": "markdown",
      "source": [
        "#To help allocate police forces more efficiently, I analyzed crime rates by shifts (Day, Evening, Midnight). How does the crime rate vary across different time shifts (Day, Evening, Midnight)?"
      ],
      "metadata": {
        "id": "nM_Ow2wWp0Ax"
      }
    },
    {
      "cell_type": "code",
      "source": [
        "query = \"\"\"\n",
        "\n",
        "SELECT SHIFT, COUNT(*) AS Crime_Count\n",
        "FROM crime_2024\n",
        "GROUP BY SHIFT\n",
        "ORDER BY Crime_Count DESC;\n",
        "\n",
        "\n",
        "\"\"\"\n",
        "# Execute the SQL query and fetch results\n",
        "result = pd.read_sql_query(query, engine)\n",
        "print(result)"
      ],
      "metadata": {
        "colab": {
          "base_uri": "https://localhost:8080/"
        },
        "id": "OMknZ_Ukp_JS",
        "outputId": "4eca09cb-721e-4315-a46a-827f375445ca"
      },
      "execution_count": 29,
      "outputs": [
        {
          "output_type": "stream",
          "name": "stdout",
          "text": [
            "      SHIFT  Crime_Count\n",
            "0   EVENING         8278\n",
            "1       DAY         8190\n",
            "2  MIDNIGHT         4334\n"
          ]
        }
      ]
    },
    {
      "cell_type": "markdown",
      "source": [
        "#Geographical Crime Hotspots\n",
        "#This identifies areas (wards, districts, neighborhoods) with the highest crime rates, focusing police efforts in high-risk areas."
      ],
      "metadata": {
        "id": "OPd6R7Sx3WyR"
      }
    },
    {
      "cell_type": "markdown",
      "source": [
        "#BY WARDS"
      ],
      "metadata": {
        "id": "IitzAtaB5ICj"
      }
    },
    {
      "cell_type": "code",
      "source": [
        "query = \"\"\"\n",
        "SELECT WARD, COUNT(*) AS Crime_Count\n",
        "FROM crime_2024\n",
        "WHERE WARD IS NOT NULL\n",
        "GROUP BY WARD\n",
        "ORDER BY Crime_Count DESC;\n",
        "\"\"\"\n",
        "# Execute the SQL query and fetch results\n",
        "result = pd.read_sql_query(query, engine)\n",
        "print(result)"
      ],
      "metadata": {
        "colab": {
          "base_uri": "https://localhost:8080/"
        },
        "id": "3zneehXH3r_u",
        "outputId": "41a268a8-a281-458b-80e1-8c2de29d94ed"
      },
      "execution_count": 34,
      "outputs": [
        {
          "output_type": "stream",
          "name": "stdout",
          "text": [
            "   WARD  Crime_Count\n",
            "0   5.0         3562\n",
            "1   2.0         3314\n",
            "2   1.0         3028\n",
            "3   7.0         2821\n",
            "4   6.0         2673\n",
            "5   8.0         2209\n",
            "6   4.0         1970\n",
            "7   3.0         1222\n"
          ]
        }
      ]
    },
    {
      "cell_type": "markdown",
      "source": [
        "# BY NEIGHBORHOODS"
      ],
      "metadata": {
        "id": "-Nu-HaPK4yI2"
      }
    },
    {
      "cell_type": "markdown",
      "source": [],
      "metadata": {
        "id": "PhG3r_hHykgD"
      }
    },
    {
      "cell_type": "code",
      "source": [
        "query = \"\"\"\n",
        "SELECT NEIGHBORHOOD_CLUSTER, COUNT(*) AS Crime_Count\n",
        "FROM crime_2024\n",
        "WHERE NEIGHBORHOOD_CLUSTER IS NOT NULL\n",
        "GROUP BY NEIGHBORHOOD_CLUSTER\n",
        "ORDER BY Crime_Count DESC;\n",
        "\"\"\"\n",
        "# Execute the SQL query and fetch results\n",
        "result = pd.read_sql_query(query, engine)\n",
        "print(result)"
      ],
      "metadata": {
        "colab": {
          "base_uri": "https://localhost:8080/"
        },
        "id": "W-_7PPAR4Tmj",
        "outputId": "b1e0bdd2-d23b-4c29-ca4f-1f38042f4c6a"
      },
      "execution_count": 36,
      "outputs": [
        {
          "output_type": "stream",
          "name": "stdout",
          "text": [
            "   NEIGHBORHOOD_CLUSTER  Crime_Count\n",
            "0             Cluster 2         1489\n",
            "1            Cluster 25         1311\n",
            "2             Cluster 8         1135\n",
            "3            Cluster 23         1115\n",
            "4             Cluster 3         1108\n",
            "5            Cluster 18         1008\n",
            "6            Cluster 21          935\n",
            "7             Cluster 6          930\n",
            "8            Cluster 26          833\n",
            "9            Cluster 39          754\n",
            "10           Cluster 22          733\n",
            "11            Cluster 7          716\n",
            "12           Cluster 17          650\n",
            "13           Cluster 34          569\n",
            "14            Cluster 1          516\n",
            "15           Cluster 31          515\n",
            "16           Cluster 33          495\n",
            "17           Cluster 32          485\n",
            "18            Cluster 4          442\n",
            "19           Cluster 27          433\n",
            "20            Cluster 9          388\n",
            "21           Cluster 15          363\n",
            "22           Cluster 24          352\n",
            "23           Cluster 30          325\n",
            "24           Cluster 35          316\n",
            "25           Cluster 19          307\n",
            "26           Cluster 38          292\n",
            "27            Cluster 5          278\n",
            "28           Cluster 20          263\n",
            "29           Cluster 14          249\n",
            "30           Cluster 11          216\n",
            "31           Cluster 36          206\n",
            "32           Cluster 37          201\n",
            "33           Cluster 12          193\n",
            "34           Cluster 28          186\n",
            "35           Cluster 10          148\n",
            "36           Cluster 16          107\n",
            "37           Cluster 13           91\n",
            "38           Cluster 43           42\n",
            "39           Cluster 29           35\n",
            "40           Cluster 45           27\n",
            "41           Cluster 40           18\n",
            "42           Cluster 44           16\n",
            "43           Cluster 46            5\n",
            "44           Cluster 41            3\n"
          ]
        }
      ]
    },
    {
      "cell_type": "markdown",
      "source": [
        "#BY DISTRICTS"
      ],
      "metadata": {
        "id": "u1bCi5EZ43b9"
      }
    },
    {
      "cell_type": "code",
      "source": [
        "query = \"\"\"\n",
        "SELECT district, COUNT(*) as Crime_Count\n",
        "FROM crime_2024\n",
        "WHERE district IS NOT NULL\n",
        "GROUP BY district\n",
        "ORDER BY Crime_Count DESC;\n",
        "\"\"\"\n",
        "\n",
        "# Execute the SQL query and fetch results\n",
        "result = pd.read_sql_query(query, engine)\n",
        "print(result)"
      ],
      "metadata": {
        "colab": {
          "base_uri": "https://localhost:8080/"
        },
        "id": "IyngmDAo5hX7",
        "outputId": "fce89c5c-17cc-4fe6-ea68-b3b40713be20"
      },
      "execution_count": 40,
      "outputs": [
        {
          "output_type": "stream",
          "name": "stdout",
          "text": [
            "   DISTRICT  Crime_Count\n",
            "0       3.0         3742\n",
            "1       2.0         3511\n",
            "2       5.0         3425\n",
            "3       1.0         2771\n",
            "4       6.0         2727\n",
            "5       4.0         2634\n",
            "6       7.0         1635\n"
          ]
        }
      ]
    },
    {
      "cell_type": "markdown",
      "source": [
        "#Most Common Crime Methods\n",
        "#This analysis helps law enforcement understand the methods used for various crimes (e.g., gun-related crimes)."
      ],
      "metadata": {
        "id": "lKNUA6rb7XTa"
      }
    },
    {
      "cell_type": "code",
      "source": [
        "query = \"\"\"\n",
        "SELECT METHOD, COUNT(*) AS Method_Count\n",
        "FROM crime_2024\n",
        "GROUP BY METHOD\n",
        "ORDER BY Method_Count DESC;\n",
        " \"\"\"\n",
        "# Execute the SQL query and fetch results\n",
        "result = pd.read_sql_query(query, engine)\n",
        "print(result)\n"
      ],
      "metadata": {
        "colab": {
          "base_uri": "https://localhost:8080/"
        },
        "id": "q4GB6-0O7go-",
        "outputId": "a13ec274-c881-49d4-d204-cb024343569f"
      },
      "execution_count": 42,
      "outputs": [
        {
          "output_type": "stream",
          "name": "stdout",
          "text": [
            "   METHOD  Method_Count\n",
            "0  OTHERS         18844\n",
            "1     GUN          1650\n",
            "2   KNIFE           308\n"
          ]
        }
      ]
    },
    {
      "cell_type": "markdown",
      "source": [
        "#Crime Trends Over Time (Across various months up until September 2024)\n",
        "#Tracking crime over time (daily, weekly, or monthly) reveals patterns, allowing for proactive measures during peak times."
      ],
      "metadata": {
        "id": "jvXU2woEA3vd"
      }
    },
    {
      "cell_type": "code",
      "source": [
        "crime_2024['REPORT_DAT'] = pd.to_datetime(crime_2024['REPORT_DAT'], errors='coerce')\n",
        "\n",
        "# Drop rows with NaT in REPORT_DAT\n",
        "crime_2024.dropna(subset=['REPORT_DAT'], inplace=True)\n",
        "\n",
        "# Extract the month\n",
        "crime_2024['Month'] = crime_2024['REPORT_DAT'].dt.month\n",
        "\n",
        "# Count crimes by month\n",
        "monthly_crimes = crime_2024.groupby('Month').size().reset_index(name='Crime_Count')\n",
        "\n",
        "# Sort results by month\n",
        "monthly_crimes = monthly_crimes.sort_values (by='Crime_Count', ascending=False)\n",
        "\n",
        "# Display the results\n",
        "print(monthly_crimes)"
      ],
      "metadata": {
        "colab": {
          "base_uri": "https://localhost:8080/"
        },
        "id": "mFVB1C4S_Bsu",
        "outputId": "8589bb26-c8c6-46f3-8838-542f0ba9204d"
      },
      "execution_count": 67,
      "outputs": [
        {
          "output_type": "stream",
          "name": "stdout",
          "text": [
            "   Month  Crime_Count\n",
            "7      8         2568\n",
            "6      7         2537\n",
            "4      5         2422\n",
            "5      6         2404\n",
            "0      1         2344\n",
            "1      2         2194\n",
            "8      9         2176\n",
            "3      4         2113\n",
            "2      3         2044\n"
          ]
        }
      ]
    },
    {
      "cell_type": "markdown",
      "source": [
        "#Relationship Between Crime Type and Method\n",
        "#This query helps understand how specific methods (e.g., guns) relate to certain crimes (e.g., robbery, assault). How likely is a method going to be used in a criminal incident. This helps the dispatch better prepared while responding to crime scenes."
      ],
      "metadata": {
        "id": "9Q2pC4HKCaf5"
      }
    },
    {
      "cell_type": "code",
      "source": [
        "query = \"\"\"\n",
        "SELECT OFFENSE, METHOD, COUNT(*) AS Method_Offense_Count\n",
        "FROM crime_2024\n",
        "GROUP BY OFFENSE, METHOD\n",
        "ORDER BY METHOD, Method_Offense_Count DESC;\n",
        "\n",
        " \"\"\"\n",
        "# Execute the SQL query and fetch results\n",
        "result = pd.read_sql_query(query, engine)\n",
        "print(result)"
      ],
      "metadata": {
        "colab": {
          "base_uri": "https://localhost:8080/"
        },
        "id": "OCBLyuiSCaHo",
        "outputId": "09d296ac-7cc8-4871-f2fa-0a8a46f30cbe"
      },
      "execution_count": 55,
      "outputs": [
        {
          "output_type": "stream",
          "name": "stdout",
          "text": [
            "                       OFFENSE  METHOD  Method_Offense_Count\n",
            "0                      ROBBERY     GUN                   916\n",
            "1   ASSAULT W/DANGEROUS WEAPON     GUN                   515\n",
            "2                     HOMICIDE     GUN                   119\n",
            "3                  THEFT/OTHER     GUN                    39\n",
            "4                 THEFT F/AUTO     GUN                    23\n",
            "5          MOTOR VEHICLE THEFT     GUN                    18\n",
            "6                    SEX ABUSE     GUN                    13\n",
            "7                     BURGLARY     GUN                     7\n",
            "8   ASSAULT W/DANGEROUS WEAPON   KNIFE                   178\n",
            "9                      ROBBERY   KNIFE                    64\n",
            "10                 THEFT/OTHER   KNIFE                    47\n",
            "11                    HOMICIDE   KNIFE                     7\n",
            "12         MOTOR VEHICLE THEFT   KNIFE                     4\n",
            "13                   SEX ABUSE   KNIFE                     4\n",
            "14                    BURGLARY   KNIFE                     3\n",
            "15                THEFT F/AUTO   KNIFE                     1\n",
            "16                 THEFT/OTHER  OTHERS                  9056\n",
            "17                THEFT F/AUTO  OTHERS                  4694\n",
            "18         MOTOR VEHICLE THEFT  OTHERS                  3589\n",
            "19                    BURGLARY  OTHERS                   702\n",
            "20                     ROBBERY  OTHERS                   586\n",
            "21                   SEX ABUSE  OTHERS                   101\n",
            "22  ASSAULT W/DANGEROUS WEAPON  OTHERS                    99\n",
            "23                    HOMICIDE  OTHERS                    13\n",
            "24                       ARSON  OTHERS                     4\n"
          ]
        }
      ]
    }
  ]
}